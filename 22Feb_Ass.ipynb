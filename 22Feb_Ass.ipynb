{
 "cells": [
  {
   "cell_type": "code",
   "execution_count": 1,
   "id": "9efbcb74-f76d-400c-bf2b-a7bc7643bfc5",
   "metadata": {},
   "outputs": [],
   "source": [
    "import pandas as pd"
   ]
  },
  {
   "cell_type": "markdown",
   "id": "f3a5d31b-32f7-4f07-90e8-f4730c12055e",
   "metadata": {},
   "source": [
    "# Question 1"
   ]
  },
  {
   "cell_type": "code",
   "execution_count": 2,
   "id": "6e85b379-ad37-4cab-9ab2-1248a42edab8",
   "metadata": {},
   "outputs": [],
   "source": [
    "l=pd.Series([4,8,15,16,23,42])"
   ]
  },
  {
   "cell_type": "code",
   "execution_count": 3,
   "id": "4af05384-51c3-4db8-87c4-be3627c8aa5c",
   "metadata": {},
   "outputs": [
    {
     "data": {
      "text/plain": [
       "0     4\n",
       "1     8\n",
       "2    15\n",
       "3    16\n",
       "4    23\n",
       "5    42\n",
       "dtype: int64"
      ]
     },
     "execution_count": 3,
     "metadata": {},
     "output_type": "execute_result"
    }
   ],
   "source": [
    "l"
   ]
  },
  {
   "cell_type": "code",
   "execution_count": 4,
   "id": "226f8fcd-150f-4acd-91bc-e2305f1f556f",
   "metadata": {},
   "outputs": [],
   "source": [
    "# Question 2"
   ]
  },
  {
   "cell_type": "code",
   "execution_count": 5,
   "id": "840a47bb-4998-4ab2-8f84-0a78a5feb8e2",
   "metadata": {},
   "outputs": [],
   "source": [
    "l1=[1,2,3,4,5,6,7,8,9,10]"
   ]
  },
  {
   "cell_type": "code",
   "execution_count": 6,
   "id": "0882b7fb-a8cc-4f98-b4ed-86a5d29bc54b",
   "metadata": {},
   "outputs": [],
   "source": [
    "df=pd.Series(list(l1))"
   ]
  },
  {
   "cell_type": "code",
   "execution_count": 7,
   "id": "7ab2a267-ae7c-443b-ba8c-a21a1f130175",
   "metadata": {},
   "outputs": [
    {
     "data": {
      "text/plain": [
       "0     1\n",
       "1     2\n",
       "2     3\n",
       "3     4\n",
       "4     5\n",
       "5     6\n",
       "6     7\n",
       "7     8\n",
       "8     9\n",
       "9    10\n",
       "dtype: int64"
      ]
     },
     "execution_count": 7,
     "metadata": {},
     "output_type": "execute_result"
    }
   ],
   "source": [
    "df"
   ]
  },
  {
   "cell_type": "code",
   "execution_count": 8,
   "id": "def17c35-9dae-4a74-a70c-ad4374e4f67c",
   "metadata": {},
   "outputs": [],
   "source": [
    "# Qusetion 3"
   ]
  },
  {
   "cell_type": "code",
   "execution_count": 9,
   "id": "bfc1f212-ce4f-4c86-b3cb-0748c9c8523b",
   "metadata": {},
   "outputs": [],
   "source": [
    "data={\"Name\":[\"Alice\",\"Bob\",\"Claire\"],\n",
    "      \"Age\":[25,30,27],\n",
    "      \"Gender\":[\"Female\",\"Male\",\"Female\"]}"
   ]
  },
  {
   "cell_type": "code",
   "execution_count": 10,
   "id": "3e58cb5d-7f7a-4510-8f88-097c6d85aee1",
   "metadata": {},
   "outputs": [],
   "source": [
    "df=pd.DataFrame(data)"
   ]
  },
  {
   "cell_type": "code",
   "execution_count": 11,
   "id": "99754804-3725-4550-bdf2-82233f993cfe",
   "metadata": {},
   "outputs": [
    {
     "data": {
      "text/html": [
       "<div>\n",
       "<style scoped>\n",
       "    .dataframe tbody tr th:only-of-type {\n",
       "        vertical-align: middle;\n",
       "    }\n",
       "\n",
       "    .dataframe tbody tr th {\n",
       "        vertical-align: top;\n",
       "    }\n",
       "\n",
       "    .dataframe thead th {\n",
       "        text-align: right;\n",
       "    }\n",
       "</style>\n",
       "<table border=\"1\" class=\"dataframe\">\n",
       "  <thead>\n",
       "    <tr style=\"text-align: right;\">\n",
       "      <th></th>\n",
       "      <th>Name</th>\n",
       "      <th>Age</th>\n",
       "      <th>Gender</th>\n",
       "    </tr>\n",
       "  </thead>\n",
       "  <tbody>\n",
       "    <tr>\n",
       "      <th>0</th>\n",
       "      <td>Alice</td>\n",
       "      <td>25</td>\n",
       "      <td>Female</td>\n",
       "    </tr>\n",
       "    <tr>\n",
       "      <th>1</th>\n",
       "      <td>Bob</td>\n",
       "      <td>30</td>\n",
       "      <td>Male</td>\n",
       "    </tr>\n",
       "    <tr>\n",
       "      <th>2</th>\n",
       "      <td>Claire</td>\n",
       "      <td>27</td>\n",
       "      <td>Female</td>\n",
       "    </tr>\n",
       "  </tbody>\n",
       "</table>\n",
       "</div>"
      ],
      "text/plain": [
       "     Name  Age  Gender\n",
       "0   Alice   25  Female\n",
       "1     Bob   30    Male\n",
       "2  Claire   27  Female"
      ]
     },
     "execution_count": 11,
     "metadata": {},
     "output_type": "execute_result"
    }
   ],
   "source": [
    "df"
   ]
  },
  {
   "cell_type": "code",
   "execution_count": 12,
   "id": "9654af9a-78c8-4c88-93f8-9c4feba0ba6b",
   "metadata": {},
   "outputs": [],
   "source": [
    "# Question 4"
   ]
  },
  {
   "cell_type": "raw",
   "id": "e3c166d2-c0dd-42f3-82a2-2775afc3d69b",
   "metadata": {},
   "source": [
    "DataFrame: A DataFrame is a 2-dimensional labeled data structure with columns of potentially different types. It can be thought of as a spreadsheet or a SQL table . it is similar to a dictionary of Series Objects. Each column in a DataFrame is a Series.\n",
    "Series: A Series is a one-dimensional labeled array capable of holding any data type .it can be thought of as a single column in a DataFrame."
   ]
  },
  {
   "cell_type": "code",
   "execution_count": 16,
   "id": "e5749a11-6bf1-4886-bd5d-f10a2542bf4a",
   "metadata": {},
   "outputs": [
    {
     "data": {
      "text/plain": [
       "0    1\n",
       "1    2\n",
       "2    3\n",
       "3    4\n",
       "4    5\n",
       "dtype: int64"
      ]
     },
     "execution_count": 16,
     "metadata": {},
     "output_type": "execute_result"
    }
   ],
   "source": [
    "#Example\n",
    "s=pd.Series([1,2,3,4,5])\n",
    "s\n",
    "\n"
   ]
  },
  {
   "cell_type": "code",
   "execution_count": 17,
   "id": "14e0bab8-f14a-4be7-8207-ef6190b23bdf",
   "metadata": {},
   "outputs": [
    {
     "data": {
      "text/html": [
       "<div>\n",
       "<style scoped>\n",
       "    .dataframe tbody tr th:only-of-type {\n",
       "        vertical-align: middle;\n",
       "    }\n",
       "\n",
       "    .dataframe tbody tr th {\n",
       "        vertical-align: top;\n",
       "    }\n",
       "\n",
       "    .dataframe thead th {\n",
       "        text-align: right;\n",
       "    }\n",
       "</style>\n",
       "<table border=\"1\" class=\"dataframe\">\n",
       "  <thead>\n",
       "    <tr style=\"text-align: right;\">\n",
       "      <th></th>\n",
       "      <th>Age</th>\n",
       "    </tr>\n",
       "  </thead>\n",
       "  <tbody>\n",
       "    <tr>\n",
       "      <th>0</th>\n",
       "      <td>23</td>\n",
       "    </tr>\n",
       "    <tr>\n",
       "      <th>1</th>\n",
       "      <td>25</td>\n",
       "    </tr>\n",
       "    <tr>\n",
       "      <th>2</th>\n",
       "      <td>26</td>\n",
       "    </tr>\n",
       "    <tr>\n",
       "      <th>3</th>\n",
       "      <td>27</td>\n",
       "    </tr>\n",
       "  </tbody>\n",
       "</table>\n",
       "</div>"
      ],
      "text/plain": [
       "   Age\n",
       "0   23\n",
       "1   25\n",
       "2   26\n",
       "3   27"
      ]
     },
     "execution_count": 17,
     "metadata": {},
     "output_type": "execute_result"
    }
   ],
   "source": [
    "data={\"Age\":[23,25,26,27]}\n",
    "df=pd.DataFrame(data)\n",
    "df"
   ]
  },
  {
   "cell_type": "raw",
   "id": "77811b87-e788-4c43-9268-8ae7e5bffb5f",
   "metadata": {},
   "source": [
    "# Question 5\n",
    "* head():To view the first few rows of the \n",
    "        DataFrame.\n",
    "* tail():To view the last few rows of the \n",
    "          DataFrame\n",
    "* info():To get a concise summary of the \n",
    "         DataFrame.\n",
    "* describe():To generate descriptive of the               statistics of the DataFrame.\n",
    "* drop():To drop specified labels from rows           or columns.\n",
    "\n",
    "* fillna():To fill missing values in the\n",
    "           DataFrame.\n",
    "           \n",
    "* groupby():To group DataFrame using a                 mapper or by a Series of                   columns.\n",
    "* merge():To merge DataFrame objects by               performing a database-style join           operation.\n",
    "\n",
    "for example,you might use the head() function to quickly inspect the first few rows of a DataFrame to understand its structure and contents.\n",
    "\n"
   ]
  },
  {
   "cell_type": "raw",
   "id": "08bd6482-0a57-4f06-bac5-b2e38d166ec3",
   "metadata": {},
   "source": [
    "#Qusetion 6\n",
    "* Series:A Series is mutable.\n",
    "* DataFrame:A DataFrame is mutable.\n",
    "* Panel:A Panel is mutable.\n",
    "\n"
   ]
  },
  {
   "cell_type": "code",
   "execution_count": null,
   "id": "33eff577-55f3-45f4-a6aa-a7cce2a8cd41",
   "metadata": {},
   "outputs": [],
   "source": [
    "# Question 7\n",
    "import pandas as pd\n",
    "names=pd.Series([\"Alice\",\""
   ]
  }
 ],
 "metadata": {
  "kernelspec": {
   "display_name": "Python 3 (ipykernel)",
   "language": "python",
   "name": "python3"
  },
  "language_info": {
   "codemirror_mode": {
    "name": "ipython",
    "version": 3
   },
   "file_extension": ".py",
   "mimetype": "text/x-python",
   "name": "python",
   "nbconvert_exporter": "python",
   "pygments_lexer": "ipython3",
   "version": "3.10.8"
  }
 },
 "nbformat": 4,
 "nbformat_minor": 5
}
